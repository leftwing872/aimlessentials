{
 "cells": [
  {
   "cell_type": "code",
   "execution_count": 1,
   "id": "25018b7f-3b0d-4922-ad3e-809c1577b125",
   "metadata": {},
   "outputs": [],
   "source": [
    "import numpy as np"
   ]
  },
  {
   "cell_type": "markdown",
   "id": "b6e88926-eb8f-4201-a4de-b51eeaf01d07",
   "metadata": {},
   "source": [
    "![nn](./perceptron.png)"
   ]
  },
  {
   "cell_type": "markdown",
   "id": "827377f5-b5d1-4b81-a91f-66316ddd7379",
   "metadata": {},
   "source": [
    "# 1단계: feedforward 순전파\n",
    "# 2단계: 손실계산\n",
    "# 3단계: backpropagation 역전파"
   ]
  },
  {
   "cell_type": "code",
   "execution_count": 61,
   "id": "122bb0a7-1a13-49b2-87aa-c92a4700d6db",
   "metadata": {},
   "outputs": [],
   "source": [
    "# Multi layer perceptron\n",
    "class MLP:\n",
    "    def __init__(self, input_size, hidden_size, output_size):\n",
    "        self.input_size = input_size\n",
    "        self.hidden_size = hidden_size\n",
    "        self.output_size = output_size\n",
    "\n",
    "        #가중치 초기화\n",
    "        # self.w1_2_3_4 = np.random.random((self.input_size, self.hidden_size))\n",
    "        self.w1_2_3_4 = [[1, 10],[1, 10]] #강의용으로 결과를 빨리보고자 값을 fix 함\n",
    "        # self.w5_6 = np.random.random((self.hidden_size, self.output_size))\n",
    "        self.w5_6 = [[-40], [40]] #강의용으로 결과를 빨리보고자 값을 fix 함\n",
    "\n",
    "    def sigmoid(self, x):\n",
    "        return 1 / (1 + np.exp(-x))\n",
    "\n",
    "    def forward(self, x):\n",
    "        # propagate inputs through the network\n",
    "        self.z1_2 = np.dot(x, self.w1_2_3_4) # 1 X 2\n",
    "        self.h = self.sigmoid(self.z1_2)     # 1 X 2\n",
    "        self.z3 = np.dot(self.h, self.w5_6)  # 1 X 1\n",
    "        self.o = self.sigmoid(self.z3)       # 1 X 1\n",
    "        return self.o\n",
    "\n",
    "    def mse_loss(self, y_true, y_pred):\n",
    "        # MSE 손실계산\n",
    "        return np.mean((y_true - y_pred) ** 2)\n",
    "\n",
    "    def backward(self, x, y, y_pred, learning_rate):\n",
    "        # 체인룰 계산\n",
    "        dc_do1 = -2 * (y - y_pred)\n",
    "        do1_dz3 = y_pred * (1 - y_pred)\n",
    "        dz3_dw5_6 = self.h\n",
    "        dc_dw5_6 = dc_do1 * do1_dz3 * dz3_dw5_6                # 1 X 2\n",
    "        self.w5_6 = self.w5_6 + learning_rate * -dc_dw5_6.T    # 2 X 1\n",
    "        dc_dw1_2_3_4 = dc_do1 * do1_dz3 * np.dot(self.w5_6 * (self.h * (1 - self.h)).T, x)\n",
    "\n",
    "        self.w1_2_3_4 = self.w1_2_3_4 + learning_rate * -dc_dw1_2_3_4.T\n",
    "\n",
    "    def train(self, x_train, y_train, ephochs, learning_rate):\n",
    "        # for epoch in range(epochs):\n",
    "        for epoch in range(ephochs):\n",
    "            for i in range(len(x_train)):\n",
    "                # Forward pass\n",
    "                y_pred = self.forward([x_train[i]])\n",
    "                # Compute and print Loss\n",
    "                loss = self.mse_loss([y_train[i]], y_pred)\n",
    "                # Backward pass\n",
    "                self.backward([x_train[i]], [y_train[i]], y_pred, learning_rate)\n",
    "            if np.mod(epoch,100)==0:\n",
    "                print('epoch=',epoch, 'loss=',loss)"
   ]
  },
  {
   "cell_type": "markdown",
   "id": "082a91cb-3261-4f6f-9091-16848e2acc80",
   "metadata": {},
   "source": [
    "![nn](./xor.png)"
   ]
  },
  {
   "cell_type": "code",
   "execution_count": 62,
   "id": "93339aa2-d249-4917-98e5-4a1152481d6c",
   "metadata": {},
   "outputs": [],
   "source": [
    "# 데이터 생성\n",
    "x_train = np.random.randint(0, 2, (100,2))\n",
    "y_train = (x_train[:,0]!=x_train[:,1]).astype(int)"
   ]
  },
  {
   "cell_type": "code",
   "execution_count": 63,
   "id": "ab5ab2ad-0ee0-4da4-b27c-994ecbc40a76",
   "metadata": {},
   "outputs": [
    {
     "data": {
      "text/plain": [
       "array([1, 1])"
      ]
     },
     "execution_count": 63,
     "metadata": {},
     "output_type": "execute_result"
    }
   ],
   "source": [
    "x_train[1]"
   ]
  },
  {
   "cell_type": "code",
   "execution_count": 64,
   "id": "01c1dee6-4f0e-4635-b55f-80bfd94180be",
   "metadata": {},
   "outputs": [
    {
     "data": {
      "text/plain": [
       "0"
      ]
     },
     "execution_count": 64,
     "metadata": {},
     "output_type": "execute_result"
    }
   ],
   "source": [
    "y_train[1]"
   ]
  },
  {
   "cell_type": "code",
   "execution_count": 65,
   "id": "f431b1b2-0aa6-4a6e-9010-da279a36e55f",
   "metadata": {},
   "outputs": [],
   "source": [
    "# 다층퍼셉트론 선언\n",
    "mlp = MLP(input_size=2, hidden_size=2, output_size=1)"
   ]
  },
  {
   "cell_type": "code",
   "execution_count": 66,
   "id": "b3d392cf-26cf-4252-adb8-a7017d4426e3",
   "metadata": {},
   "outputs": [
    {
     "name": "stdout",
     "output_type": "stream",
     "text": [
      "epoch= 0 loss= 0.34725335316148703\n",
      "epoch= 100 loss= 0.0024860516621991262\n",
      "epoch= 200 loss= 0.002027648622569982\n",
      "epoch= 300 loss= 0.001863744750340665\n",
      "epoch= 400 loss= 0.0017781330320093913\n",
      "epoch= 500 loss= 0.0017239498944598664\n",
      "epoch= 600 loss= 0.0016849674923523062\n",
      "epoch= 700 loss= 0.0016541822942871354\n",
      "epoch= 800 loss= 0.0016281624782455643\n",
      "epoch= 900 loss= 0.0016050845278198075\n"
     ]
    }
   ],
   "source": [
    "# 모델 학습\n",
    "mlp.train(x_train, y_train, ephochs=1000, learning_rate=0.1)"
   ]
  },
  {
   "cell_type": "code",
   "execution_count": 68,
   "id": "3ec8c0cd-af50-4841-8ed3-0f4857f1612d",
   "metadata": {},
   "outputs": [
    {
     "name": "stdout",
     "output_type": "stream",
     "text": [
      "Predicted output:  [[0 0]] [[0.0125051]]\n",
      "Predicted output:  [[1 0]] [[0.97352959]]\n",
      "Predicted output:  [[0 1]] [[0.96965226]]\n",
      "Predicted output:  [[1 1]] [[0.0392337]]\n"
     ]
    }
   ],
   "source": [
    "# 테스트 값으로 모델값 예측\n",
    "test_input = np.array([[0, 0]])\n",
    "predicted_output = mlp.forward(test_input)\n",
    "print(\"Predicted output: \", test_input, predicted_output)\n",
    "test_input = np.array([[1, 0]])\n",
    "predicted_output = mlp.forward(test_input)\n",
    "print(\"Predicted output: \", test_input, predicted_output)\n",
    "test_input = np.array([[0, 1]])\n",
    "predicted_output = mlp.forward(test_input)\n",
    "print(\"Predicted output: \", test_input, predicted_output)\n",
    "test_input = np.array([[1, 1]])\n",
    "predicted_output = mlp.forward(test_input)\n",
    "print(\"Predicted output: \", test_input, predicted_output)"
   ]
  },
  {
   "cell_type": "code",
   "execution_count": null,
   "id": "539305ee-9c25-4cb1-92e2-695bbfeb4623",
   "metadata": {},
   "outputs": [],
   "source": []
  }
 ],
 "metadata": {
  "kernelspec": {
   "display_name": "Python 3 (ipykernel)",
   "language": "python",
   "name": "python3"
  },
  "language_info": {
   "codemirror_mode": {
    "name": "ipython",
    "version": 3
   },
   "file_extension": ".py",
   "mimetype": "text/x-python",
   "name": "python",
   "nbconvert_exporter": "python",
   "pygments_lexer": "ipython3",
   "version": "3.8.18"
  }
 },
 "nbformat": 4,
 "nbformat_minor": 5
}
